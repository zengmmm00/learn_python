{
 "cells": [
  {
   "cell_type": "markdown",
   "metadata": {},
   "source": [
    "# <center>Python3 基础教学</center>"
   ]
  },
  {
   "cell_type": "markdown",
   "metadata": {},
   "source": [
    "## 0. Python 的笼统介绍"
   ]
  },
  {
   "cell_type": "markdown",
   "metadata": {},
   "source": [
    "认识一个语言的第一步自然是从输出 Hello World 开始。"
   ]
  },
  {
   "cell_type": "code",
   "execution_count": 6,
   "metadata": {},
   "outputs": [
    {
     "name": "stdout",
     "output_type": "stream",
     "text": [
      "Hello World\n"
     ]
    }
   ],
   "source": [
    "print('Hello World')"
   ]
  },
  {
   "cell_type": "markdown",
   "metadata": {},
   "source": [
    "同其他语言的 Hello World 代码相比，我们容易看出 Python 具有**优雅**、**简单**的特点。"
   ]
  },
  {
   "cell_type": "code",
   "execution_count": 7,
   "metadata": {},
   "outputs": [],
   "source": [
    "import this"
   ]
  },
  {
   "cell_type": "markdown",
   "metadata": {},
   "source": [
    "Python 的另一大特点是有**强大的标准库**。\n",
    "\n",
    "Python 的可拓展性也非常不错，有着**大量的第三方库**，如Pandas、Numpy、Seaborn、Scikit-learn等等。\n",
    "\n",
    "Python 比较接近人类语言，方便理解，**可读性强**。\n",
    "\n",
    "---\n",
    "\n",
    "Python 的主要缺点是相比于其他主流的编程语言，Python **运行速度比较慢**。\n",
    "\n",
    "但是需要注意的是 Python 的部分第三方库运行起来速度不慢，因为这些库的底层是用其他语言来实现的。例如 Numpy 的底层是用 C 语言编写的。\n",
    "\n",
    "---\n",
    "\n",
    "Python 依靠**缩进**来判断语句之间的关系，在较短的代码中容易看清楚整体的逻辑结构，但是在较长的代码中就容易找不到对应关系。\n",
    "\n",
    "---\n",
    "\n",
    "Python 是一种**解释型**、**面向对象**、**动态数据类型**的**高级程序设计语言**。\n",
    "\n",
    "**解释型语言** ([Interpreted Language](https://en.wikipedia.org/wiki/Interpreted_language))：解释型语言的程序不需要在运行前编译，在运行程序的时候才翻译，专门的解释器负责在每个语句执行的时候解释程序代码。这样解释型语言每执行一次就要翻译一次，效率比较低。其他的例子有 JavaScript、Perl、Ruby、MATLAB 等。对立的概念是编译型语言。\n",
    "\n",
    "**面向对象程序设计** ([Object-Oriented Programming](https://en.wikipedia.org/wiki/Object-oriented_programming))：面向对象程序设计方法是尽可能模拟人类的思维方式，使得软件的开发方法与过程尽可能接近人类认识世界、解决现实问题的方法和过程，也即使得描述问题的问题空间与问题的解决方案空间在结构上尽可能一致，把客观世界中的实体抽象为问题域中的对象。面向对象程序设计以对象为核心，该方法认为程序由一系列对象组成，核心概念是类和对象。其他面向对象语言的例子有 Java、C++ (注意 C 不是面向对象程序设计语言)、C# 等。对立的概念是面向过程程序设计（以函数为核心）。\n",
    "\n",
    "**动态数据类型** ([Strong and Weak Typing](https://en.wikipedia.org/wiki/Strong_and_weak_typing))：动态类型语言中，变量没有类型，只有数据有类型，变量可以持有任意类型的数据。其他动态数据类型语言的例子还有 JavaScript、Perl、Ruby 等。对立的概念是静态数据类型。\n",
    "\n",
    "**高级程序设计语言** ([High-Level Programming Language](https://en.wikipedia.org/wiki/High-level_programming_language))：高级编程语言是高度封装了的编程语言。它是以人类的日常语言为基础的一种编程语言，使用一般人易于接受的文字来表示，有较高的可读性，以方便对电脑认知较浅的人亦可以大概明白其内容。其他高级程序设计语言的例子有 Visual Basic、Perl、Ruby、C#、C、C++、Java 等。对立的概念是低级程序设计语言。\n",
    "\n",
    "---\n",
    "\n",
    "Python 由 Guido van Rossum 于 1989 年底发明，第一个公开发行版发行于 1991 年。像 Perl 语言一样, Python 源代码同样遵循 GPL(GNU General Public License) 协议。\n",
    "\n",
    "---\n",
    "\n",
    "**官方宣布，2020年1月1日，停止 Python2 的更新**。Python2.7 被确定为最后一个 Python2.x 版本。\n",
    "\n",
    "因为一些历史遗留问题，Python3 并不向下兼容 Python2，具体细节可以看 https://www.lagou.com/lgeduarticle/80779.html 。\n",
    "\n",
    "---\n",
    "\n",
    "所以，我们推荐使用 Python3 而不是 Python2。 Python3 和 Python2 的具体差异可以看 https://www.runoob.com/python/python-2x-3x.html 。\n",
    "\n",
    "---\n",
    "\n",
    "到此为止，前面出现的 Python 泛指 Python3 和 Python2，**之后出现的 Python 只指 Python3**。\n",
    "\n",
    "---"
   ]
  },
  {
   "cell_type": "markdown",
   "metadata": {},
   "source": [
    "举一个很简单的例子来看看 Python 的“能力”。"
   ]
  },
  {
   "cell_type": "code",
   "execution_count": 3,
   "metadata": {},
   "outputs": [
    {
     "name": "stdout",
     "output_type": "stream",
     "text": [
      "Python version:\n",
      "3.8.1 (default, Dec 27 2019, 18:06:00) \n",
      "[Clang 11.0.0 (clang-1100.0.33.16)]\n",
      "--------------------------------------------------\n",
      "Platform: Darwin\n",
      "--------------------------------------------------\n",
      "Current working directory: /Users/apple/Documents/Introduction_to_Big_Data/Basic_Python\n",
      "--------------------------------------------------\n",
      "Get help on \"what is os.getcwd\":\n",
      "Help on built-in function getcwd in module posix:\n",
      "\n",
      "getcwd()\n",
      "    Return a unicode string representing the current working directory.\n",
      "\n"
     ]
    }
   ],
   "source": [
    "import sys\n",
    "print('Python version:')\n",
    "print(sys.version)\n",
    "print('-' * 50)\n",
    "\n",
    "import platform\n",
    "print('Platform:', platform.system())\n",
    "print('-' * 50)\n",
    "\n",
    "import os\n",
    "print('Current working directory:', os.getcwd())\n",
    "print('-' * 50)\n",
    "\n",
    "print('Get help on \"what is os.getcwd\":')\n",
    "help(os.getcwd)"
   ]
  },
  {
   "cell_type": "markdown",
   "metadata": {},
   "source": [
    "不难看出 Python 往往能够用非常简短的代码完成要做的事情。但是仅仅会调用各种库里面的函数和类对于学习 Python 来说是远远不够的。"
   ]
  },
  {
   "cell_type": "markdown",
   "metadata": {},
   "source": [
    "## 1. 基本概念"
   ]
  },
  {
   "cell_type": "markdown",
   "metadata": {},
   "source": [
    "### 1.1 变量\n",
    "\n",
    "Python 中的变量赋值不需要类型声明。\n",
    "\n",
    "每个变量在使用前都必须赋值，变量赋值以后该变量才会被创建。\n",
    "\n",
    "Python 里的变量名必须以字母、下划线（\\_）开头，后面可以跟任意数目的字母、数字和下划线。此处的字母并不局限于 26 个英文字母，可以包含中文字符、日文字符等，且区分大小写。还有一点需要注意的是关键字不能作为变量名。\n",
    "\n",
    "等号（=）用来给变量赋值。等号运算符左边是一个变量名，等号运算符右边是存储在变量中的值。"
   ]
  },
  {
   "cell_type": "code",
   "execution_count": 4,
   "metadata": {},
   "outputs": [
    {
     "name": "stdout",
     "output_type": "stream",
     "text": [
      "a: 1 <class 'int'>\n",
      "a: 2 <class 'str'>\n",
      "a: 3.0 <class 'float'>\n",
      "b1: 3.0 <class 'float'>\n",
      "a: 4 <class 'int'>\n",
      "_b: True <class 'bool'>\n"
     ]
    }
   ],
   "source": [
    "a = 1\n",
    "print('a:', a, type(a))\n",
    "a = '2'\n",
    "print('a:', a, type(a))\n",
    "# 赋予多个变量相同的值\n",
    "a = b1 = 3.0\n",
    "print('a:', a, type(a))\n",
    "print('b1:', b1, type(b1))\n",
    "# 赋予多个变量不同的值\n",
    "a, _b = 4, True\n",
    "print('a:', a, type(a))\n",
    "print('_b:', _b, type(_b))"
   ]
  },
  {
   "cell_type": "markdown",
   "metadata": {},
   "source": [
    "上面是一些给变量赋值的基础方法，下面这些关键字都是不可以作为变量名的。"
   ]
  },
  {
   "cell_type": "code",
   "execution_count": 5,
   "metadata": {},
   "outputs": [
    {
     "name": "stdout",
     "output_type": "stream",
     "text": [
      "['False', 'None', 'True', 'and', 'as', 'assert', 'async', 'await', 'break', 'class', 'continue', 'def', 'del', 'elif', 'else', 'except', 'finally', 'for', 'from', 'global', 'if', 'import', 'in', 'is', 'lambda', 'nonlocal', 'not', 'or', 'pass', 'raise', 'return', 'try', 'while', 'with', 'yield']\n"
     ]
    }
   ],
   "source": [
    "import keyword\n",
    "print(keyword.kwlist)"
   ]
  },
  {
   "cell_type": "markdown",
   "metadata": {},
   "source": [
    "### 1.2 注释"
   ]
  },
  {
   "cell_type": "code",
   "execution_count": 6,
   "metadata": {},
   "outputs": [
    {
     "name": "stdout",
     "output_type": "stream",
     "text": [
      "此代码块前面部分都是注释\n",
      "这样可以作为字符串给变量赋值\n"
     ]
    }
   ],
   "source": [
    "# 单行注释\n",
    "\n",
    "'''\n",
    "多行注释，里面可以包含\"\n",
    "多行注释，里面可以包含\"\n",
    "多行注释，里面可以包含\"\n",
    "'''\n",
    "\n",
    "'''多行注释也可以写在一行'''\n",
    "\n",
    "\"\"\"\n",
    "多行注释，里面可以包含'\n",
    "多行注释，里面可以包含'\n",
    "多行注释，里面可以包含'\n",
    "\"\"\"\n",
    "\n",
    "\"\"\"多行注释也可以写在一行\"\"\"\n",
    "\n",
    "print('此代码块前面部分都是注释')\n",
    "a = '''这样可以作为字符串给变量赋值'''\n",
    "print(a)"
   ]
  },
  {
   "cell_type": "markdown",
   "metadata": {},
   "source": [
    "### 1.3 基础数据类型\n",
    "\n",
    "Python语言的数据类型包括整型、浮点型、字符串、布尔型和空值"
   ]
  },
  {
   "cell_type": "code",
   "execution_count": 7,
   "metadata": {},
   "outputs": [
    {
     "name": "stdout",
     "output_type": "stream",
     "text": [
      "_integer: 12345678909876543210123456789 <class 'int'> True\n",
      "_float: 3.141592653589793 <class 'float'> True\n",
      "_string: 12345678909876543210123456789 <class 'str'> True\n",
      "_bool: True <class 'bool'> True\n",
      "_none: None <class 'NoneType'> False\n"
     ]
    }
   ],
   "source": [
    "_integer = 12345678909876543210123456789\n",
    "_float = 3.1415926535897932384626433832\n",
    "_string = '12345678909876543210123456789'\n",
    "_bool = True\n",
    "_none = None\n",
    "print('_integer:', _integer, type(_integer), bool(_integer))\n",
    "print('_float:', _float, type(_float), bool(_float))\n",
    "print('_string:', _string, type(_string), bool(_string))\n",
    "print('_bool:', _bool, type(_bool), bool(_bool))\n",
    "print('_none:', _none, type(_none), bool(_none))"
   ]
  },
  {
   "cell_type": "markdown",
   "metadata": {},
   "source": [
    "需要注意的是：\n",
    "\n",
    "1. Python 里的整数是高精度整数，即没有长度限制的整数，但是整数的长度越长，运算速度也就越慢\n",
    "2. Python 里的浮点型在默认 print 的时候会自动进行一定程度的四舍五入\n",
    "3. 非 0 的整数和浮点型在做判断时都会被视为真，非空的字符串在做判断时也都会被视为真，None会被视为假"
   ]
  },
  {
   "cell_type": "code",
   "execution_count": 8,
   "metadata": {},
   "outputs": [
    {
     "name": "stdout",
     "output_type": "stream",
     "text": [
      "1234567.234567\n",
      "1234567.234567\n",
      "--------------------------------------------------\n",
      "12.345671234567892\n",
      "12.345671234567891234567\n",
      "--------------------------------------------------\n",
      "1234567.1234567892\n",
      "1234567.1234567891234567\n",
      "--------------------------------------------------\n",
      "1.234567123456789e+19\n",
      "12345671234567891234.567\n",
      "--------------------------------------------------\n",
      "1 : True\n",
      "-1 : True\n",
      "0 : False\n",
      "0.0 : False\n",
      "1e-39 : True\n",
      " : False\n",
      "1  : True\n",
      " 1 : True\n"
     ]
    }
   ],
   "source": [
    "print(1234567.234567)\n",
    "print('1234567.234567')\n",
    "print('-' * 50)\n",
    "print(12.345671234567891234567)\n",
    "print('12.345671234567891234567')\n",
    "print('-' * 50)\n",
    "print(1234567.1234567891234567)\n",
    "print('1234567.1234567891234567')\n",
    "print('-' * 50)\n",
    "print(12345671234567891234.567)\n",
    "print('12345671234567891234.567')\n",
    "print('-' * 50)\n",
    "test_value = 1\n",
    "print(test_value, ':', bool(test_value))\n",
    "test_value = -1\n",
    "print(test_value, ':', bool(test_value))\n",
    "test_value = 0\n",
    "print(test_value, ':', bool(test_value))\n",
    "test_value = 0.0\n",
    "print(test_value, ':', bool(test_value))\n",
    "test_value = 0.000000000000000000000000000000000000001\n",
    "print(test_value, ':', bool(test_value))\n",
    "test_value = ''\n",
    "print(test_value, ':', bool(test_value))\n",
    "test_value = '1 '\n",
    "print(test_value, ':', bool(test_value))\n",
    "test_value = ' 1'\n",
    "print(test_value, ':', bool(test_value))"
   ]
  },
  {
   "cell_type": "markdown",
   "metadata": {},
   "source": [
    "### 1.4 二目运算符\n",
    "\n",
    "包含加、减、乘、除、整除、幂、或、且、异或等等。"
   ]
  },
  {
   "cell_type": "code",
   "execution_count": 9,
   "metadata": {},
   "outputs": [
    {
     "name": "stdout",
     "output_type": "stream",
     "text": [
      "binary form of 3 is 11\n",
      "binary form of 6 is 110\n",
      "3 + 6 = 9 <class 'int'>\n",
      "3 - 6 = -3 <class 'int'>\n",
      "3 * 6 = 18 <class 'int'>\n",
      "3 / 6 = 0.5 <class 'float'>\n",
      "3 // 6 = 0 <class 'int'>\n",
      "3 ** 6 = 729 <class 'int'>\n",
      "3 | 6 = 7 <class 'int'>\n",
      "3 & 6 = 2 <class 'int'>\n",
      "3 ^ 6 = 5 <class 'int'>\n"
     ]
    }
   ],
   "source": [
    "x, y = 3, 6\n",
    "print('binary form of', x, 'is', bin(x)[2:])\n",
    "print('binary form of', y, 'is', bin(y)[2:])\n",
    "# 加\n",
    "print(x, '+', y, '=', x + y, type(x + y))\n",
    "# 减\n",
    "print(x, '-', y, '=', x - y, type(x - y))\n",
    "# 乘\n",
    "print(x, '*', y, '=', x * y, type(x * y))\n",
    "# 除\n",
    "print(x, '/', y, '=', x / y, type(x / y))\n",
    "# 整除\n",
    "print(x, '//', y, '=', x // y, type(x // y))\n",
    "# 幂\n",
    "print(x, '**', y, '=', x ** y, type(x ** y))\n",
    "# 或\n",
    "print(x, '|', y, '=', x | y, type(x | y))\n",
    "# 且\n",
    "print(x, '&', y, '=', x & y, type(x & y))\n",
    "# 异或\n",
    "print(x, '^', y, '=', x ^ y, type(x ^ y))"
   ]
  },
  {
   "cell_type": "markdown",
   "metadata": {},
   "source": [
    "需要注意的是 x / y 返回的一定是一个浮点数，其他的则依赖于 x 和 y 的类型。二进制相关运算只对整数有效。"
   ]
  },
  {
   "cell_type": "code",
   "execution_count": 10,
   "metadata": {},
   "outputs": [
    {
     "name": "stdout",
     "output_type": "stream",
     "text": [
      "6 + 3 = 9 <class 'int'>\n",
      "6 - 3 = 3 <class 'int'>\n",
      "6 * 3 = 18 <class 'int'>\n",
      "6 / 3 = 2.0 <class 'float'>\n",
      "6 // 3 = 2 <class 'int'>\n",
      "6 ** 3 = 216 <class 'int'>\n",
      "6 | 3 = 7 <class 'int'>\n",
      "6 & 3 = 2 <class 'int'>\n",
      "6 ^ 3 = 5 <class 'int'>\n"
     ]
    }
   ],
   "source": [
    "x, y = 6, 3\n",
    "# 加\n",
    "print(x, '+', y, '=', x + y, type(x + y))\n",
    "# 减\n",
    "print(x, '-', y, '=', x - y, type(x - y))\n",
    "# 乘\n",
    "print(x, '*', y, '=', x * y, type(x * y))\n",
    "# 除\n",
    "print(x, '/', y, '=', x / y, type(x / y))\n",
    "# 整除\n",
    "print(x, '//', y, '=', x // y, type(x // y))\n",
    "# 幂\n",
    "print(x, '**', y, '=', x ** y, type(x ** y))\n",
    "# 或\n",
    "print(x, '|', y, '=', x | y, type(x | y))\n",
    "# 且\n",
    "print(x, '&', y, '=', x & y, type(x & y))\n",
    "# 异或\n",
    "print(x, '^', y, '=', x ^ y, type(x ^ y))"
   ]
  },
  {
   "cell_type": "code",
   "execution_count": 11,
   "metadata": {},
   "outputs": [
    {
     "name": "stdout",
     "output_type": "stream",
     "text": [
      "6 + 3.1 = 9.1 <class 'float'>\n",
      "6 - 3.1 = 2.9 <class 'float'>\n",
      "6 * 3.1 = 18.6 <class 'float'>\n",
      "6 / 3.1 = 1.9354838709677418 <class 'float'>\n",
      "6 // 3.1 = 1.0 <class 'float'>\n",
      "6 ** 3.1 = 258.3859389518842 <class 'float'>\n"
     ]
    }
   ],
   "source": [
    "x, y = 6, 3.1\n",
    "# 加\n",
    "print(x, '+', y, '=', x + y, type(x + y))\n",
    "# 减\n",
    "print(x, '-', y, '=', x - y, type(x - y))\n",
    "# 乘\n",
    "print(x, '*', y, '=', x * y, type(x * y))\n",
    "# 除\n",
    "print(x, '/', y, '=', x / y, type(x / y))\n",
    "# 整除\n",
    "print(x, '//', y, '=', x // y, type(x // y))\n",
    "# 幂\n",
    "print(x, '**', y, '=', x ** y, type(x ** y))"
   ]
  },
  {
   "cell_type": "code",
   "execution_count": 12,
   "metadata": {},
   "outputs": [
    {
     "name": "stdout",
     "output_type": "stream",
     "text": [
      "6.2 + 3 = 9.2 <class 'float'>\n",
      "6.2 - 3 = 3.2 <class 'float'>\n",
      "6.2 * 3 = 18.6 <class 'float'>\n",
      "6.2 / 3 = 2.066666666666667 <class 'float'>\n",
      "6.2 // 3 = 2.0 <class 'float'>\n",
      "6.2 ** 3 = 238.32800000000003 <class 'float'>\n"
     ]
    }
   ],
   "source": [
    "x, y = 6.2, 3\n",
    "# 加\n",
    "print(x, '+', y, '=', x + y, type(x + y))\n",
    "# 减\n",
    "print(x, '-', y, '=', x - y, type(x - y))\n",
    "# 乘\n",
    "print(x, '*', y, '=', x * y, type(x * y))\n",
    "# 除\n",
    "print(x, '/', y, '=', x / y, type(x / y))\n",
    "# 整除\n",
    "print(x, '//', y, '=', x // y, type(x // y))\n",
    "# 幂\n",
    "print(x, '**', y, '=', x ** y, type(x ** y))"
   ]
  },
  {
   "cell_type": "markdown",
   "metadata": {},
   "source": [
    "### 1.5 类型转换\n",
    "\n",
    "函数 int()、float()、str() 和 bool() 分别用于将变量转换成整型、浮点型、字符串和布尔型变量。"
   ]
  },
  {
   "cell_type": "code",
   "execution_count": 13,
   "metadata": {},
   "outputs": [
    {
     "name": "stdout",
     "output_type": "stream",
     "text": [
      "a: 12345 <class 'int'>\n",
      "b: 123 <class 'int'>\n",
      "c: 1 <class 'int'>\n",
      "d: -7644 <class 'int'>\n"
     ]
    }
   ],
   "source": [
    "a = int('12345')\n",
    "b = int(123.45)\n",
    "c = int(True)\n",
    "d = int(-7644)\n",
    "print('a:', a, type(a))\n",
    "print('b:', b, type(b))\n",
    "print('c:', c, type(c))\n",
    "print('d:', d, type(d))"
   ]
  },
  {
   "cell_type": "code",
   "execution_count": 14,
   "metadata": {},
   "outputs": [
    {
     "name": "stdout",
     "output_type": "stream",
     "text": [
      "a: 1234.5 <class 'float'>\n",
      "b: 123.188 <class 'float'>\n",
      "c: 1.0 <class 'float'>\n",
      "d: 763898.0 <class 'float'>\n"
     ]
    }
   ],
   "source": [
    "a = float('1234.5')\n",
    "b = float(123.188)\n",
    "c = float(True)\n",
    "d = float(763898)\n",
    "print('a:', a, type(a))\n",
    "print('b:', b, type(b))\n",
    "print('c:', c, type(c))\n",
    "print('d:', d, type(d))"
   ]
  },
  {
   "cell_type": "code",
   "execution_count": 15,
   "metadata": {},
   "outputs": [
    {
     "name": "stdout",
     "output_type": "stream",
     "text": [
      "a: 1234.5 <class 'str'>\n",
      "b: 123.188 <class 'str'>\n",
      "c: True <class 'str'>\n",
      "d: 763898 <class 'str'>\n"
     ]
    }
   ],
   "source": [
    "a = str('1234.5')\n",
    "b = str(123.188)\n",
    "c = str(True)\n",
    "d = str(763898)\n",
    "print('a:', a, type(a))\n",
    "print('b:', b, type(b))\n",
    "print('c:', c, type(c))\n",
    "print('d:', d, type(d))"
   ]
  },
  {
   "cell_type": "markdown",
   "metadata": {},
   "source": [
    "布尔型变量的转换在 1.3 中已经出现过了。"
   ]
  },
  {
   "cell_type": "markdown",
   "metadata": {},
   "source": [
    "函数 eval() 是一个综合的类型转化器，能把字符串转化成不同的类型，甚至还能做到表达式求值。"
   ]
  },
  {
   "cell_type": "code",
   "execution_count": 16,
   "metadata": {},
   "outputs": [
    {
     "name": "stdout",
     "output_type": "stream",
     "text": [
      "a: 12345 <class 'int'>\n",
      "b: 123.45 <class 'float'>\n",
      "c: True <class 'bool'>\n",
      "d: alphabeta <class 'str'>\n",
      "e: 15 <class 'int'>\n",
      "f: 1002.0 <class 'float'>\n"
     ]
    }
   ],
   "source": [
    "a = eval('12345')\n",
    "b = eval('123.45')\n",
    "c = eval('True')\n",
    "d = eval('\"alphabeta\"')\n",
    "e = eval('3 + 5 + 7')\n",
    "f = eval('1e3 + 2')\n",
    "print('a:', a, type(a))\n",
    "print('b:', b, type(b))\n",
    "print('c:', c, type(c))\n",
    "print('d:', d, type(d))\n",
    "print('e:', e, type(e))\n",
    "print('f:', f, type(f))"
   ]
  },
  {
   "cell_type": "markdown",
   "metadata": {},
   "source": [
    "函数 isinstance() 可以用来判断一个值是否为指定类型。"
   ]
  },
  {
   "cell_type": "code",
   "execution_count": 17,
   "metadata": {},
   "outputs": [
    {
     "name": "stdout",
     "output_type": "stream",
     "text": [
      "True False\n"
     ]
    }
   ],
   "source": [
    "print(isinstance('123', str), isinstance('123', int))"
   ]
  },
  {
   "cell_type": "markdown",
   "metadata": {},
   "source": [
    "## 2. 数据的容器"
   ]
  },
  {
   "cell_type": "markdown",
   "metadata": {},
   "source": [
    "### 2.1 列表\n",
    "\n",
    "列表（list）是一个有序的序列结构，序列中的元素可以是不同的数据类型。列表可以进行一系列序列操作，如索引、切片、加、乘和检查成员等。"
   ]
  },
  {
   "cell_type": "code",
   "execution_count": 18,
   "metadata": {},
   "outputs": [
    {
     "name": "stdout",
     "output_type": "stream",
     "text": [
      "[1, 1.1, '123.4', True, None] <class 'list'>\n",
      "[1, 1.1, '123.4', True, None, 'new data']\n",
      "[1, 1.1, '123.4', True, None, 1, 1.1, '123.4', True, None]\n",
      "[True, None]\n",
      "0 1 <class 'int'>\n",
      "1 1.1 <class 'float'>\n",
      "2 123.4 <class 'str'>\n",
      "3 True <class 'bool'>\n",
      "4 None <class 'NoneType'>\n"
     ]
    }
   ],
   "source": [
    "_list = [1, 1.1, '123.4', True, None]\n",
    "print(_list, type(_list))\n",
    "# 加\n",
    "print(_list + ['new data'])\n",
    "# 乘：重复列表内元素\n",
    "print(_list * 2)\n",
    "# 切片操作，下面这个操作为截取列表在 index=3 之后的部分\n",
    "print(_list[3:])\n",
    "# 列表有序但不要求数据类型相同\n",
    "print(0, _list[0], type(_list[0]))\n",
    "print(1, _list[1], type(_list[1]))\n",
    "print(2, _list[2], type(_list[2]))\n",
    "print(3, _list[3], type(_list[3]))\n",
    "print(4, _list[4], type(_list[4]))"
   ]
  },
  {
   "cell_type": "markdown",
   "metadata": {},
   "source": [
    "有关于列表的切片操作，更详细的内容可以参考 https://www.cnblogs.com/lengjf/p/9914642.html 。"
   ]
  },
  {
   "cell_type": "markdown",
   "metadata": {},
   "source": [
    "函数 id() 可以用来查看一个对象对应的内存地址。"
   ]
  },
  {
   "cell_type": "code",
   "execution_count": 19,
   "metadata": {},
   "outputs": [
    {
     "name": "stdout",
     "output_type": "stream",
     "text": [
      "a: [1, 2, 3, 4, 5] 4531641984\n",
      "b: [1, 2, 3, 4, 5] 4531641984\n",
      "--------------------------------------------------\n",
      "a: [1, 2, 7, 4, 5] 4531641984\n",
      "b: [1, 2, 7, 4, 5] 4531641984\n"
     ]
    }
   ],
   "source": [
    "a = [1, 2, 3, 4, 5]\n",
    "b = a\n",
    "print('a:', a, id(a))\n",
    "print('b:', b, id(b))\n",
    "print('-' * 50)\n",
    "b[2] = 7\n",
    "print('a:', a, id(a))\n",
    "print('b:', b, id(b))"
   ]
  },
  {
   "cell_type": "markdown",
   "metadata": {},
   "source": [
    "在上面这个例子中，因为 a 和 b 共享的是同一块内存地址，所以 b 的改变也会引起 a 的改变。"
   ]
  },
  {
   "cell_type": "code",
   "execution_count": 20,
   "metadata": {},
   "outputs": [
    {
     "name": "stdout",
     "output_type": "stream",
     "text": [
      "a: [1, 2, 3, 4, 5] 4531663488\n",
      "b: [1, 2, 3, 4, 5] 4531878016\n",
      "--------------------------------------------------\n",
      "a: [1, 2, 3, 4, 5] 4531663488\n",
      "b: [1, 2, 7, 4, 5] 4531878016\n"
     ]
    }
   ],
   "source": [
    "a = [1, 2, 3, 4, 5]\n",
    "b = [1, 2, 3, 4, 5]\n",
    "print('a:', a, id(a))\n",
    "print('b:', b, id(b))\n",
    "print('-' * 50)\n",
    "b[2] = 7\n",
    "print('a:', a, id(a))\n",
    "print('b:', b, id(b))"
   ]
  },
  {
   "cell_type": "markdown",
   "metadata": {},
   "source": [
    "在上面这个例子中，因为 a 和 b 共享的不是同一块内存地址（虽然最开始它们看起来一样），所以 b 的改变不会引起 a 的改变。"
   ]
  },
  {
   "cell_type": "code",
   "execution_count": 21,
   "metadata": {},
   "outputs": [
    {
     "name": "stdout",
     "output_type": "stream",
     "text": [
      "a: [1, 2, 3, 4, 5] 4531574400\n",
      "b: [[1, 2, 3, 4, 5]] 4531877504\n",
      "b[0]: [1, 2, 3, 4, 5] 4531574400\n",
      "--------------------------------------------------\n",
      "a: [1, 2, 7, 4, 5] 4531574400\n",
      "b: [[1, 2, 7, 4, 5]] 4531877504\n",
      "b[0]: [1, 2, 7, 4, 5] 4531574400\n",
      "--------------------------------------------------\n",
      "a: [1, 2, 7, 4, 5] 4531574400\n",
      "b: [7] 4531877504\n"
     ]
    }
   ],
   "source": [
    "a = [1, 2, 3, 4, 5]\n",
    "b = [a]\n",
    "print('a:', a, id(a))\n",
    "print('b:', b, id(b))\n",
    "print('b[0]:', b[0], id(b[0]))\n",
    "print('-' * 50)\n",
    "b[0][2] = 7\n",
    "print('a:', a, id(a))\n",
    "print('b:', b, id(b))\n",
    "print('b[0]:', b[0], id(b[0]))\n",
    "print('-' * 50)\n",
    "b[0] = 7\n",
    "print('a:', a, id(a))\n",
    "print('b:', b, id(b))"
   ]
  },
  {
   "cell_type": "markdown",
   "metadata": {},
   "source": [
    "关于 Python 内存分配相关的内容，可以参考 https://blog.csdn.net/zhuzuwei/article/details/80554776 。"
   ]
  },
  {
   "cell_type": "code",
   "execution_count": 22,
   "metadata": {},
   "outputs": [
    {
     "name": "stdout",
     "output_type": "stream",
     "text": [
      "[1, 2, 3, 4, 5]\n",
      "[1, 2, 3, 4, 5, 2]\n",
      "[1, 3, 4, 5, 2]\n",
      "[3, 4, 5, 2]\n",
      "[3, 4, 5]\n",
      "[3, 9, 4, 5]\n",
      "4\n",
      "[5, 4, 9, 3]\n",
      "[3, 4, 5, 9]\n",
      "[9, 5, 4, 3]\n"
     ]
    }
   ],
   "source": [
    "a = [1, 2, 3, 4, 5]\n",
    "print(a)\n",
    "# 在末尾增加\n",
    "a.append(2)\n",
    "print(a)\n",
    "# 删除第一个指定元素\n",
    "a.remove(2)\n",
    "print(a)\n",
    "# 删除指定 index 位置处的元素，不指定的话默认删除最后一个\n",
    "a.pop(0)\n",
    "print(a)\n",
    "a.pop()\n",
    "print(a)\n",
    "# 在指定 index 位置处添加一个元素\n",
    "a.insert(1, 9)\n",
    "print(a)\n",
    "# 获取列表长度\n",
    "print(len(a))\n",
    "# 反转列表\n",
    "a.reverse()\n",
    "print(a)\n",
    "# 对列表排序，从小到大\n",
    "a.sort()\n",
    "print(a)\n",
    "# 对列表排序，从大到小\n",
    "a.sort(reverse=True)\n",
    "print(a)"
   ]
  },
  {
   "cell_type": "markdown",
   "metadata": {},
   "source": [
    "除了这些操作之外还有很多列表支持的操作，可以通过 dir() 函数来查看。\n",
    "\n",
    "dir() 函数不带参数时，返回当前范围内的变量、方法和定义的类型列表；带参数时，返回参数的属性、方法列表。\n",
    "\n",
    "接下来的容器，只介绍基础的功能和性质，具体的操作部分就不详细展开了，可以自己通过 dir() 函数配合官方文档 https://docs.python.org/3/ 查看和理解。"
   ]
  },
  {
   "cell_type": "code",
   "execution_count": 23,
   "metadata": {},
   "outputs": [
    {
     "name": "stdout",
     "output_type": "stream",
     "text": [
      "['__add__', '__class__', '__contains__', '__delattr__', '__delitem__', '__dir__', '__doc__', '__eq__', '__format__', '__ge__', '__getattribute__', '__getitem__', '__gt__', '__hash__', '__iadd__', '__imul__', '__init__', '__init_subclass__', '__iter__', '__le__', '__len__', '__lt__', '__mul__', '__ne__', '__new__', '__reduce__', '__reduce_ex__', '__repr__', '__reversed__', '__rmul__', '__setattr__', '__setitem__', '__sizeof__', '__str__', '__subclasshook__', 'append', 'clear', 'copy', 'count', 'extend', 'index', 'insert', 'pop', 'remove', 'reverse', 'sort']\n"
     ]
    }
   ],
   "source": [
    "print(dir(list))"
   ]
  },
  {
   "cell_type": "markdown",
   "metadata": {},
   "source": [
    "### 2.2 元组\n",
    "\n",
    "元组可以看做是一个不可变的列表。实际上，tuple的使用可以使得代码更安全，防止错误赋值导致重要对象的改变。"
   ]
  },
  {
   "cell_type": "code",
   "execution_count": 24,
   "metadata": {},
   "outputs": [
    {
     "name": "stdout",
     "output_type": "stream",
     "text": [
      "(1, 1.1, '123.4', True, None) <class 'tuple'> 4531918864\n",
      "0 1 <class 'int'>\n",
      "1 1.1 <class 'float'>\n",
      "2 123.4 <class 'str'>\n",
      "3 True <class 'bool'>\n",
      "4 None <class 'NoneType'>\n",
      "(True, None)\n",
      "--------------------------------------------------\n",
      "[1, 1.1, '123.4', True, None] <class 'list'> 4531700096\n",
      "(1, 1.1, '123.4', True, None) <class 'tuple'> 4532581296\n",
      "[1, 1.1, '123.4', True, None] <class 'list'> 4532402496\n"
     ]
    }
   ],
   "source": [
    "_tuple = (1, 1.1, '123.4', True, None)\n",
    "print(_tuple, type(_tuple), id(_tuple))\n",
    "# 元组有序但不要求数据类型相同\n",
    "print(0, _tuple[0], type(_tuple[0]))\n",
    "print(1, _tuple[1], type(_tuple[1]))\n",
    "print(2, _tuple[2], type(_tuple[2]))\n",
    "print(3, _tuple[3], type(_tuple[3]))\n",
    "print(4, _tuple[4], type(_tuple[4]))\n",
    "# 元组不支持加和乘之类改变元组内容的操作，但是支持切片操作，下面这个操作为截取列表在 index=3 之后的部分\n",
    "print(_tuple[3:])\n",
    "print('-' * 50)\n",
    "\n",
    "_list = [1, 1.1, '123.4', True, None]\n",
    "print(_list, type(_list), id(_list))\n",
    "# 元组和列表能够互相转换\n",
    "_tuple = tuple(_list)\n",
    "print(_tuple, type(_tuple), id(_tuple))\n",
    "_list = list(_tuple)\n",
    "print(_list, type(_list), id(_list))"
   ]
  },
  {
   "cell_type": "markdown",
   "metadata": {},
   "source": [
    "### 2.3 字典\n",
    "\n",
    "字典（dict）在其他语言中被称作哈希映射（hash map）或者相关数组（associative arrays）。字典是一种大小可变的键值对集，其中的键（key）和值（value）都是Python对象。"
   ]
  },
  {
   "cell_type": "code",
   "execution_count": 25,
   "metadata": {},
   "outputs": [
    {
     "name": "stdout",
     "output_type": "stream",
     "text": [
      "{'key': 'value', 'one': 1, 'two': 2, 'three': 3, 'four': 4, 'five': 5, 1: 'one', 2: 'two', 3: 'three', 4: 'four', 5: 'five'} <class 'dict'>\n",
      "{'key': 'value', 'one': 1, 'two': 2, 'three': 3, 'four': 4, 'five': 5, 1: 'one', 2: 'two', 3: 'three', 4: 'four', 5: 'five', 'six': 6, 6: 'six', '五': 5} <class 'dict'>\n",
      "value\n",
      "1\n",
      "2\n",
      "one\n",
      "two\n",
      "5\n"
     ]
    }
   ],
   "source": [
    "_dict = {'key': 'value',\n",
    "         'one': 1,\n",
    "         'two': 2,\n",
    "         'three': 3,\n",
    "         'four': 4,\n",
    "         'five': 5,\n",
    "         1: 'one',\n",
    "         2: 'two',\n",
    "         3: 'three',\n",
    "         4: 'four',\n",
    "         5: 'five'}\n",
    "print(_dict, type(_dict))\n",
    "_dict['six'] = 6\n",
    "_dict[6] = 'six'\n",
    "_dict['五'] = 5\n",
    "print(_dict, type(_dict))\n",
    "print(_dict['key'])\n",
    "print(_dict['one'])\n",
    "print(_dict['two'])\n",
    "print(_dict[1])\n",
    "print(_dict[2])\n",
    "print(_dict['五'])"
   ]
  },
  {
   "cell_type": "markdown",
   "metadata": {},
   "source": [
    "字典中的数据元素是无序的，并不一定会按照初始化的顺序排列。不同键所对应的值可以相同，但是字典中的键（key）必须是唯一的。"
   ]
  },
  {
   "cell_type": "code",
   "execution_count": 26,
   "metadata": {},
   "outputs": [
    {
     "name": "stdout",
     "output_type": "stream",
     "text": [
      "{'key': 'value', 'one': 1, 'two': 2, 'three': 3, 'four': 4, 'five': 5, 1: 'one', 2: 'two', 3: 'three', 4: 'four', 5: 'five'}\n",
      "dict_keys(['key', 'one', 'two', 'three', 'four', 'five', 1, 2, 3, 4, 5])\n",
      "dict_values(['value', 1, 2, 3, 4, 5, 'one', 'two', 'three', 'four', 'five'])\n",
      "dict_items([('key', 'value'), ('one', 1), ('two', 2), ('three', 3), ('four', 4), ('five', 5), (1, 'one'), (2, 'two'), (3, 'three'), (4, 'four'), (5, 'five')])\n",
      "not existed\n",
      "None\n",
      "{'key': 'value', 'one': 1, 'two': 2, 'three': 3, 'four': 4, 'five': 5, 1: 'one', 2: 'two', 3: 'three', 4: 'four'}\n"
     ]
    }
   ],
   "source": [
    "_dict = {'key': 'value',\n",
    "         'one': 1,\n",
    "         'two': 2,\n",
    "         'three': 3,\n",
    "         'four': 4,\n",
    "         'five': 5,\n",
    "         1: 'one',\n",
    "         2: 'two',\n",
    "         3: 'three',\n",
    "         4: 'four',\n",
    "         5: 'five'}\n",
    "print(_dict)\n",
    "# 获取字典的所有键\n",
    "print(_dict.keys())\n",
    "# 获取字典的所有值\n",
    "print(_dict.values())\n",
    "# 获取字典的所有键值对\n",
    "print(_dict.items())\n",
    "# 安全获取字典的指定键对应值，若不存在返回一个选定的值（默认为空）\n",
    "print(_dict.get(6, 'not existed'))\n",
    "print(_dict.get(6))\n",
    "# 字典支持 .pop() 操作来删除指定键值对\n",
    "_dict.pop(5)\n",
    "print(_dict)"
   ]
  },
  {
   "cell_type": "markdown",
   "metadata": {},
   "source": [
    "### 2.4 集合\n",
    "\n",
    "集合（set）是一种无序集，它是一组键的集合，不存储值。在集合中，重复的键是不被允许的。集合可以用于去除重复值。集合也可以进行数学集合运算，如并、交、差以及对称差等。"
   ]
  },
  {
   "cell_type": "code",
   "execution_count": 27,
   "metadata": {},
   "outputs": [
    {
     "name": "stdout",
     "output_type": "stream",
     "text": [
      "{1, 2, 3, 4, 5} <class 'set'>\n",
      "{0, 1, 2, 3, 4, 5}\n",
      "{0, 1, 2, 3, 4, 5}\n",
      "{0, 1, 3, 4, 5}\n"
     ]
    }
   ],
   "source": [
    "_set = {1, 2, 3, 4, 5}\n",
    "print(_set, type(_set))\n",
    "# 添加值，重复值不会重复储存\n",
    "_set.add(0)\n",
    "print(_set)\n",
    "_set.add(1)\n",
    "print(_set)\n",
    "# 删除指定值\n",
    "_set.remove(2)\n",
    "print(_set)"
   ]
  },
  {
   "cell_type": "code",
   "execution_count": 28,
   "metadata": {},
   "outputs": [
    {
     "name": "stdout",
     "output_type": "stream",
     "text": [
      "a: {1} <class 'set'>\n",
      "b: {1: 'one'} <class 'dict'>\n",
      "c: set() <class 'set'>\n",
      "d: {} <class 'dict'>\n",
      "e: {} <class 'dict'>\n",
      "f: () <class 'tuple'>\n",
      "g: 1 <class 'int'>\n",
      "h: (1,) <class 'tuple'>\n"
     ]
    }
   ],
   "source": [
    "a = {1}\n",
    "b = {1: 'one'}\n",
    "c = set()\n",
    "d = {}\n",
    "e = dict()\n",
    "f = ()\n",
    "g = (1)\n",
    "h = (1, )\n",
    "print('a:', a, type(a))\n",
    "print('b:', b, type(b))\n",
    "print('c:', c, type(c))\n",
    "print('d:', d, type(d))\n",
    "print('e:', e, type(e))\n",
    "print('f:', f, type(f))\n",
    "print('g:', g, type(g))\n",
    "print('h:', h, type(h))"
   ]
  },
  {
   "cell_type": "markdown",
   "metadata": {},
   "source": [
    "需要注意一下如上这些创建不同容器的方法之间的区别。例如 {...} 既可以创建字典也可以创建集合，但是 {} 创建的是字典而不是集合。"
   ]
  },
  {
   "cell_type": "code",
   "execution_count": 29,
   "metadata": {},
   "outputs": [
    {
     "name": "stdout",
     "output_type": "stream",
     "text": [
      "a = {1, 2, 3}\n",
      "b = {2, 3, 4}\n",
      "a | b = {1, 2, 3, 4}\n",
      "a & b = {2, 3}\n",
      "a - b = {1}\n",
      "b - a = {4}\n",
      "a ^ b = {1, 4}\n"
     ]
    }
   ],
   "source": [
    "a = {1, 2, 3}\n",
    "b = {2, 3, 4}\n",
    "print('a =', a)\n",
    "print('b =', b)\n",
    "# 集合并\n",
    "print('a | b =', a | b)\n",
    "# 集合交\n",
    "print('a & b =', a & b)\n",
    "# 集合差\n",
    "print('a - b =', a - b)\n",
    "print('b - a =', b - a)\n",
    "# 集合对称差\n",
    "print('a ^ b =', a ^ b)"
   ]
  },
  {
   "cell_type": "code",
   "execution_count": 30,
   "metadata": {},
   "outputs": [
    {
     "name": "stdout",
     "output_type": "stream",
     "text": [
      "[1, 2, 3, 4, 5, 6, 7, 8, 9]\n"
     ]
    }
   ],
   "source": [
    "# 可以利用集合的特性对列表进行去重操作\n",
    "a = [1, 2, 3, 4, 5, 9, 8, 7, 6, 5, 4, 3, 2, 1]\n",
    "a = list(set(a))\n",
    "print(a)"
   ]
  },
  {
   "cell_type": "markdown",
   "metadata": {},
   "source": [
    "## 3. 控制结构"
   ]
  },
  {
   "cell_type": "markdown",
   "metadata": {},
   "source": [
    "### 3.1 if 选择结构"
   ]
  },
  {
   "cell_type": "code",
   "execution_count": 31,
   "metadata": {},
   "outputs": [
    {
     "name": "stdout",
     "output_type": "stream",
     "text": [
      "a goes this way\n",
      "--------------------------------------------------\n",
      "b goes this way\n",
      "--------------------------------------------------\n",
      "--------------------------------------------------\n",
      "a goes this way\n",
      "--------------------------------------------------\n",
      "b goes this way\n"
     ]
    }
   ],
   "source": [
    "a = True\n",
    "b = False\n",
    "if a:\n",
    "    print('a goes this way')\n",
    "\n",
    "print('-' * 50)\n",
    "\n",
    "if b:\n",
    "    print('b would not take this way')\n",
    "else:\n",
    "    print('b goes this way')\n",
    "\n",
    "print('-' * 50)\n",
    "\n",
    "if b:\n",
    "    print('b would not take this way')\n",
    "elif not a:\n",
    "    print('a would not take this way')\n",
    "\n",
    "print('-' * 50)\n",
    "\n",
    "if b:\n",
    "    print('b would not take this way')\n",
    "elif a:\n",
    "    print('a goes this way')\n",
    "\n",
    "print('-' * 50)\n",
    "\n",
    "if b:\n",
    "    print('b would not take this way')\n",
    "elif not a:\n",
    "    print('a would not take this way')\n",
    "else:\n",
    "    print('b goes this way')"
   ]
  },
  {
   "cell_type": "markdown",
   "metadata": {},
   "source": [
    "if 可以单独用，也可以配合 else 和 elif 使用，elif 后面可以跟 else，但是 else 后面不能跟 elif，其中 elif ... 在语句中表示 else if ...。\n",
    "\n",
    "if 和 elif 后面必须带上条件，else 后面必须不能带上条件。\n",
    "\n",
    "not 表示取反，not True 相当于 False，not False 相当于 True。"
   ]
  },
  {
   "cell_type": "markdown",
   "metadata": {},
   "source": [
    "### 3.2 for 循环结构"
   ]
  },
  {
   "cell_type": "code",
   "execution_count": 32,
   "metadata": {},
   "outputs": [
    {
     "name": "stdout",
     "output_type": "stream",
     "text": [
      "1\n",
      "1\n",
      "2\n",
      "3\n",
      "5\n",
      "8\n",
      "13\n"
     ]
    }
   ],
   "source": [
    "# 依次得到列表中的元素\n",
    "for number in [1, 1, 2, 3, 5, 8, 13]:\n",
    "    print(number)"
   ]
  },
  {
   "cell_type": "code",
   "execution_count": 33,
   "metadata": {},
   "outputs": [
    {
     "name": "stdout",
     "output_type": "stream",
     "text": [
      "0\n",
      "1\n",
      "2\n",
      "3\n",
      "4\n",
      "5\n",
      "6\n",
      "7\n",
      "8\n",
      "9\n",
      "--------------------------------------------------\n",
      "1\n",
      "2\n",
      "3\n",
      "4\n",
      "5\n",
      "6\n",
      "7\n",
      "8\n",
      "9\n",
      "10\n"
     ]
    }
   ],
   "source": [
    "# range 是一个数据生成器，可以按照要求生成一系列数\n",
    "for i in range(10):\n",
    "    print(i)\n",
    "\n",
    "print('-' * 50)\n",
    "\n",
    "# 尽管 i 的值改变了，但是在下一个循环的时候 i 又从 range 中拿取了下一个生成的值，所以没有影响\n",
    "for i in range(10):\n",
    "    i += 1\n",
    "    print(i)"
   ]
  },
  {
   "cell_type": "markdown",
   "metadata": {},
   "source": [
    "需要注意的是，虽然 range 的表现形式非常像一个迭代器，但 range 其实不是一个迭代器，具体解释可以参考 https://blog.csdn.net/IaC743nj0b/article/details/79547122 。"
   ]
  },
  {
   "cell_type": "code",
   "execution_count": 34,
   "metadata": {},
   "outputs": [
    {
     "name": "stdout",
     "output_type": "stream",
     "text": [
      "1\n",
      "2\n",
      "3\n",
      "4\n",
      "5\n",
      "6\n",
      "7\n",
      "8\n",
      "9\n",
      "--------------------------------------------------\n",
      "1\n",
      "3\n",
      "5\n",
      "7\n",
      "9\n",
      "--------------------------------------------------\n",
      "10\n",
      "8\n",
      "6\n",
      "4\n",
      "2\n"
     ]
    }
   ],
   "source": [
    "# 枚举 [1, 10)\n",
    "for i in range(1, 10):\n",
    "    print(i)\n",
    "\n",
    "print('-' * 50)\n",
    "\n",
    "# 每隔两位枚举 [1, 10)，从 1 开始\n",
    "for i in range(1, 10, 2):\n",
    "    print(i)\n",
    "\n",
    "print('-' * 50)\n",
    "\n",
    "# 每隔两位倒着枚举 (0, 10]，从 10 开始\n",
    "for i in range(10, 0, -2):\n",
    "    print(i)"
   ]
  },
  {
   "cell_type": "markdown",
   "metadata": {},
   "source": [
    "range 操作起来有点类似于切片操作。"
   ]
  },
  {
   "cell_type": "code",
   "execution_count": 35,
   "metadata": {},
   "outputs": [
    {
     "name": "stdout",
     "output_type": "stream",
     "text": [
      "0\n",
      "1\n",
      "2\n",
      "3\n",
      "4\n",
      "5\n",
      "6\n",
      "7\n",
      "8\n",
      "9\n",
      "finished\n",
      "end\n",
      "--------------------------------------------------\n",
      "0\n",
      "1\n",
      "2\n",
      "3\n",
      "4\n",
      "5\n",
      "end\n",
      "--------------------------------------------------\n",
      "0\n",
      "1\n",
      "2\n",
      "3\n",
      "4\n",
      "5\n",
      "finished\n",
      "end\n"
     ]
    }
   ],
   "source": [
    "for i in range(10):\n",
    "    print(i)\n",
    "else:\n",
    "    print('finished')\n",
    "print('end')\n",
    "\n",
    "print('-' * 50)\n",
    "\n",
    "for i in range(10):\n",
    "    if i > 5:\n",
    "        break\n",
    "    print(i)\n",
    "else:\n",
    "    print('finished')\n",
    "print('end')\n",
    "\n",
    "print('-' * 50)\n",
    "\n",
    "for i in range(10):\n",
    "    if i > 5:\n",
    "        continue\n",
    "    print(i)\n",
    "else:\n",
    "    print('finished')\n",
    "print('end')"
   ]
  },
  {
   "cell_type": "markdown",
   "metadata": {},
   "source": [
    "break 用于跳出**一个**循环。\n",
    "\n",
    "continue 用于跳到当前循环的**下一个**开始位置而不跳出循环，即无视**当前轮**循环的剩下内容。\n",
    "\n",
    "for 也可以同 else 配合使用，else 中的内容只有当 for 全部执行完而没有中途退出时才会执行。"
   ]
  },
  {
   "cell_type": "code",
   "execution_count": 36,
   "metadata": {},
   "outputs": [
    {
     "name": "stdout",
     "output_type": "stream",
     "text": [
      "1\n",
      "2\n"
     ]
    }
   ],
   "source": [
    "d = {1: '1.1', 2: '2.2'}\n",
    "for key in d:\n",
    "    print(key)"
   ]
  },
  {
   "cell_type": "markdown",
   "metadata": {},
   "source": [
    "for 直接作用于字典时，是对于其键的遍历。"
   ]
  },
  {
   "cell_type": "code",
   "execution_count": 37,
   "metadata": {},
   "outputs": [
    {
     "name": "stdout",
     "output_type": "stream",
     "text": [
      "<enumerate object at 0x10e2c1280>\n",
      "[(0, 1), (1, 1), (2, 2), (3, 3), (4, 5), (5, 8), (6, 13)]\n",
      "--------------------------------------------------\n",
      "0 1\n",
      "1 1\n",
      "2 2\n",
      "3 3\n",
      "4 5\n",
      "5 8\n",
      "6 13\n"
     ]
    }
   ],
   "source": [
    "a = enumerate([1, 1, 2, 3, 5, 8, 13])\n",
    "print(a)\n",
    "print(list(a))\n",
    "\n",
    "print('-' * 50)\n",
    "\n",
    "for index, value in enumerate([1, 1, 2, 3, 5, 8, 13]):\n",
    "    print(index, value)"
   ]
  },
  {
   "cell_type": "markdown",
   "metadata": {},
   "source": [
    "enumerate 用来获取一系列的 index-value 对。当数量匹配时，Python 能把变量一一赋上对应的值，在 1.1 中的 *赋予多个变量不同的值* 中出现过。"
   ]
  },
  {
   "cell_type": "code",
   "execution_count": 38,
   "metadata": {},
   "outputs": [
    {
     "name": "stdout",
     "output_type": "stream",
     "text": [
      "x: 1 ; y: 2 ; z: 3\n",
      "x: 4 ; y: 5 ; z: 6\n",
      "x: 7 ; y: 8 ; z: 9\n",
      "x: 10 ; y: 11 ; z: 12\n",
      "--------------------------------------------------\n",
      "index: 0 ; x: 1 ; y: 2 ; z: 3\n",
      "index: 1 ; x: 4 ; y: 5 ; z: 6\n",
      "index: 2 ; x: 7 ; y: 8 ; z: 9\n",
      "index: 3 ; x: 10 ; y: 11 ; z: 12\n"
     ]
    }
   ],
   "source": [
    "a = [(1, 2, 3), (4, 5, 6), (7, 8, 9), (10, 11, 12)]\n",
    "for x, y, z in a:\n",
    "    print('x:', x, '; y:', y, '; z:', z)\n",
    "\n",
    "print('-' * 50)    \n",
    "    \n",
    "for index, value in enumerate(a):\n",
    "    x, y, z = value\n",
    "    print('index:', index, '; x:', x, '; y:', y, '; z:', z)"
   ]
  },
  {
   "cell_type": "code",
   "execution_count": 39,
   "metadata": {},
   "outputs": [
    {
     "name": "stdout",
     "output_type": "stream",
     "text": [
      "[0, 1, 4, 9, 16]\n"
     ]
    }
   ],
   "source": [
    "a = [i ** 2 for i in range(5)]\n",
    "print(a)"
   ]
  },
  {
   "cell_type": "markdown",
   "metadata": {},
   "source": [
    "使用列表推导式可以让循环在列表内完成。"
   ]
  },
  {
   "cell_type": "markdown",
   "metadata": {},
   "source": [
    "### 3.3 while 循环结构\n",
    "\n",
    "while 循环结构同 for 循环结构类似，只不过 for 循环结构是遇到 break 或者全部遍历完成就终止了，而 while 循环结构是遇到 break 或者满足预设退出条件才终止。"
   ]
  },
  {
   "cell_type": "code",
   "execution_count": 40,
   "metadata": {},
   "outputs": [
    {
     "name": "stdout",
     "output_type": "stream",
     "text": [
      "0 1\n",
      "1 3\n",
      "2 7\n",
      "3 13\n",
      "4 21\n",
      "5 31\n",
      "6 43\n",
      "7 57\n",
      "8 73\n",
      "9 91\n",
      "10 111\n",
      "finished\n",
      "11 133\n",
      "end\n"
     ]
    }
   ],
   "source": [
    "i = 0\n",
    "while i ** 2 + i + 1 <= 111:\n",
    "    print(i, i ** 2 + i + 1)\n",
    "    i += 1\n",
    "else:\n",
    "    print('finished')\n",
    "print(i, i ** 2 + i + 1)\n",
    "print('end')"
   ]
  },
  {
   "cell_type": "markdown",
   "metadata": {},
   "source": [
    "上面的循环求出了最小的正整数 n，使得 $n^{2} + n + 1 > 111$ 成立。可以看到 while 也是可以同 else 配合使用的，逻辑同 for 和 else 的配合逻辑，同理 break 和 continue。\n",
    "\n",
    "当然，循环结构之间可以构成嵌套的关系。"
   ]
  },
  {
   "cell_type": "markdown",
   "metadata": {},
   "source": [
    "## 4. 文件的读写操作"
   ]
  },
  {
   "cell_type": "markdown",
   "metadata": {},
   "source": [
    "### 4.1 文件的读入"
   ]
  },
  {
   "cell_type": "code",
   "execution_count": 41,
   "metadata": {},
   "outputs": [
    {
     "name": "stdout",
     "output_type": "stream",
     "text": [
      "['learn_python.zip', '.DS_Store', 'online_jupyter_notebook.txt', '20200214-220315427.mp4', '0222.ipynb', 'in_and_out', 'MacOS_install', '.ipynb_checkpoints', 'Basic_Python3.ipynb', 'Windows_install', 'material']\n",
      "['in.txt', 'out.txt']\n"
     ]
    }
   ],
   "source": [
    "import os\n",
    "\n",
    "print(os.listdir())\n",
    "print(os.listdir('in_and_out'))"
   ]
  },
  {
   "cell_type": "markdown",
   "metadata": {},
   "source": [
    "查看当前目录下的文件和文件夹。"
   ]
  },
  {
   "cell_type": "code",
   "execution_count": 42,
   "metadata": {},
   "outputs": [
    {
     "name": "stdout",
     "output_type": "stream",
     "text": [
      "<_io.TextIOWrapper name='in_and_out/in.txt' mode='r' encoding='UTF-8'>\n",
      "input file <class 'str'>\n",
      "<_io.TextIOWrapper name='in_and_out/in.txt' mode='r' encoding='UTF-8'>\n"
     ]
    }
   ],
   "source": [
    "with open('in_and_out/in.txt', 'r') as f:\n",
    "    print(f)\n",
    "    raw_data = f.read()\n",
    "    print(raw_data, type(raw_data))\n",
    "\n",
    "print(f)\n",
    "# f.read() 在这里已经不能操作了，尽管前后的 f 长得一样，因为这时文件已经不在打开的状态下了"
   ]
  },
  {
   "cell_type": "markdown",
   "metadata": {},
   "source": [
    "mode='r' 就是使得文件读入的关键参数，open() 的默认 mode 也是 r。f.read() 获得的数据是字符串类型的，其他类型的需要从字符换类型进行类型转换。"
   ]
  },
  {
   "cell_type": "markdown",
   "metadata": {},
   "source": [
    "### 4.2 文件的写入"
   ]
  },
  {
   "cell_type": "code",
   "execution_count": 43,
   "metadata": {},
   "outputs": [
    {
     "name": "stdout",
     "output_type": "stream",
     "text": [
      "output file 1 <class 'str'>\n"
     ]
    }
   ],
   "source": [
    "# 写入，'w' 会覆盖文件之前的内容\n",
    "with open('in_and_out/out.txt', 'w') as f:\n",
    "    f.write('output file 1')\n",
    "\n",
    "with open('in_and_out/out.txt', 'r') as f:\n",
    "    raw_data = f.read()\n",
    "    print(raw_data, type(raw_data))"
   ]
  },
  {
   "cell_type": "markdown",
   "metadata": {},
   "source": [
    "更多读写相关的内容可以参考 https://www.runoob.com/python/file-methods.html 。\n",
    "\n",
    "有些库也会提供一些文件的读写函数，例如通过 Pandas 可以更加方便地读取各类表单数据。"
   ]
  },
  {
   "cell_type": "markdown",
   "metadata": {},
   "source": [
    "## 5. 函数与类"
   ]
  },
  {
   "cell_type": "markdown",
   "metadata": {},
   "source": [
    "### 5.1 函数\n",
    "\n",
    "函数是组织好的，可重复使用的，用来实现单一，或相关联功能的代码段。\n",
    "\n",
    "函数能提高应用的模块性，和代码的重复利用率。Python 提供了许多内建函数，比如 print()。我们也可以自己创建函数，这被叫做用户自定义函数。\n",
    "\n",
    "---\n",
    "\n",
    "定义一个由自己想要功能的函数，以下是简单的规则：\n",
    "\n",
    "1. 函数代码块以 def 关键词开头，后接函数标识符名称和圆括号()。\n",
    "2. 任何传入参数和自变量必须放在圆括号中间。圆括号之间可以用于定义参数。\n",
    "3. 函数的第一个语句整体可以选择性地使用文档字符串，用于存放函数说明。\n",
    "4. 函数内容以冒号起始，并且缩进。\n",
    "5. return [表达式] 结束函数，选择性地返回一个值给调用方。不带表达式的return相当于返回 None。"
   ]
  },
  {
   "cell_type": "code",
   "execution_count": 44,
   "metadata": {},
   "outputs": [
    {
     "name": "stdout",
     "output_type": "stream",
     "text": [
      "x times y\n",
      "--------------------------------------------------\n",
      "input: 3 and 5\n",
      "output: 15\n",
      "15\n",
      "--------------------------------------------------\n",
      "input: 8 and 3\n",
      "output: 24\n",
      "24\n",
      "--------------------------------------------------\n",
      "input: 3 and 2\n",
      "output: 6\n",
      "input: 6 and 7\n",
      "output: 42\n",
      "42\n"
     ]
    }
   ],
   "source": [
    "def f(x, y):\n",
    "    'x times y'\n",
    "    print('input:', x, 'and', y)\n",
    "    result = x * y\n",
    "    print('output:', result)\n",
    "    return result\n",
    "\n",
    "print(f.__doc__)\n",
    "print('-' * 50)\n",
    "print(f(3, 5))\n",
    "print('-' * 50)\n",
    "print(f(5 + 3, 2 + 1))\n",
    "print('-' * 50)\n",
    "print(f(f(3, 2), 7))"
   ]
  },
  {
   "cell_type": "code",
   "execution_count": 45,
   "metadata": {},
   "outputs": [
    {
     "name": "stdout",
     "output_type": "stream",
     "text": [
      "\n",
      "    x square\n",
      "    x^{2}\n",
      "    x * x\n",
      "    \n"
     ]
    }
   ],
   "source": [
    "def f(x):\n",
    "    '''\n",
    "    x square\n",
    "    x^{2}\n",
    "    x * x\n",
    "    '''\n",
    "    \n",
    "    \"\"\"\n",
    "    not displayed\n",
    "    \"\"\"\n",
    "    return x * x\n",
    "\n",
    "print(f.__doc__)"
   ]
  },
  {
   "cell_type": "markdown",
   "metadata": {},
   "source": [
    "文档可以写多行。"
   ]
  },
  {
   "cell_type": "code",
   "execution_count": 46,
   "metadata": {},
   "outputs": [
    {
     "name": "stdout",
     "output_type": "stream",
     "text": [
      "None\n"
     ]
    }
   ],
   "source": [
    "def f(x):\n",
    "    # x square\n",
    "    return x * x\n",
    "\n",
    "print(f.__doc__)"
   ]
  },
  {
   "cell_type": "markdown",
   "metadata": {},
   "source": [
    "注意这样的文档是不行的。"
   ]
  },
  {
   "cell_type": "code",
   "execution_count": 47,
   "metadata": {},
   "outputs": [
    {
     "name": "stdout",
     "output_type": "stream",
     "text": [
      "x: 1 ; y: 2 ; z: 3\n",
      "x: 1 ; y: 3 ; z: 2\n",
      "x: 1 ; y: 2 ; z: 3\n"
     ]
    }
   ],
   "source": [
    "def f(x, y, z):\n",
    "    print('x:', x, '; y:', y, '; z:', z)\n",
    "\n",
    "f(1, 2, 3)\n",
    "f(1, z=2, y=3)\n",
    "f(x=1, y=2, z=3)"
   ]
  },
  {
   "cell_type": "markdown",
   "metadata": {},
   "source": [
    "可以按照顺序输入参数，也可以指定参数名称输入（可以不按照顺序），但是从第一个指定参数名称输入的参数起，后面都必须要指定参数名称输入参数了。"
   ]
  },
  {
   "cell_type": "code",
   "execution_count": 48,
   "metadata": {},
   "outputs": [
    {
     "name": "stdout",
     "output_type": "stream",
     "text": [
      "x: 1 ; y: 2 ; z: 3\n",
      "x: 1 ; y: 3 ; z: 2\n",
      "x: 1 ; y: 3 ; z: 3\n",
      "x: 2 ; y: 3 ; z: 1\n"
     ]
    }
   ],
   "source": [
    "def f(x, y=2, z=3):\n",
    "    print('x:', x, '; y:', y, '; z:', z)\n",
    "\n",
    "f(1)\n",
    "f(1, 3, 2)\n",
    "f(1, 3)\n",
    "f(z=1, y=3, x=2)"
   ]
  },
  {
   "cell_type": "markdown",
   "metadata": {},
   "source": [
    "函数的参数可以有预设值。注意有预设值的参数必须放在参数列表的末尾。"
   ]
  },
  {
   "cell_type": "code",
   "execution_count": 49,
   "metadata": {},
   "outputs": [
    {
     "name": "stdout",
     "output_type": "stream",
     "text": [
      "x: 4 ; y: 5 ; z: 6\n",
      "x: 7 ; y: 8 ; z: 9\n"
     ]
    }
   ],
   "source": [
    "def f(x, y, z):\n",
    "    print('x:', x, '; y:', y, '; z:', z)\n",
    "    \n",
    "a = [4, 5, 6]\n",
    "f(*a)\n",
    "b = {'x': 7, 'y': 8, 'z': 9}\n",
    "f(**b)"
   ]
  },
  {
   "cell_type": "markdown",
   "metadata": {},
   "source": [
    "\\* 可以用来“展开”待传递到函数中的 元组、列表、集合、字符串 等类型，并按位置传递到函数入口参数中。\n",
    "\n",
    "\\*\\* 可以用来“展开”待传递到函数中的字典，并按关键字传递到函数入口参数中。"
   ]
  },
  {
   "cell_type": "code",
   "execution_count": 50,
   "metadata": {},
   "outputs": [
    {
     "name": "stdout",
     "output_type": "stream",
     "text": [
      "x: 1 ; y: 2 ; args: (3, 4, 5) <class 'tuple'>\n"
     ]
    }
   ],
   "source": [
    "def f(x, y, *args):\n",
    "    print('x:', x, '; y:', y, '; args:', args, type(args))\n",
    "\n",
    "f(1, 2, 3, 4, 5)"
   ]
  },
  {
   "cell_type": "markdown",
   "metadata": {},
   "source": [
    "不定参数数量的函数的写法，注意 \\*args 会被视为一个整体的元组。args 可以是任意的合法参数名。"
   ]
  },
  {
   "cell_type": "code",
   "execution_count": 51,
   "metadata": {},
   "outputs": [
    {
     "name": "stdout",
     "output_type": "stream",
     "text": [
      "x: 1 ; y: 2 ; kwargs: {'z': 3, 'w': 4, 'v': 5} <class 'dict'>\n"
     ]
    }
   ],
   "source": [
    "def f(x, y, **kwargs):\n",
    "    print('x:', x, '; y:', y, '; kwargs:', kwargs, type(kwargs))\n",
    "\n",
    "f(1, 2, z=3, w=4, v=5)"
   ]
  },
  {
   "cell_type": "markdown",
   "metadata": {},
   "source": [
    "不定参数数量且要传入特定关键词参数的函数的写法，注意 \\*\\*kwargs 会被视为一个整体的字典。kwargs 可以是任意的合法参数名。"
   ]
  },
  {
   "cell_type": "code",
   "execution_count": 52,
   "metadata": {},
   "outputs": [],
   "source": [
    "def f(x, y, *args, **kwargs):\n",
    "    print(x, y, args, kwargs)"
   ]
  },
  {
   "cell_type": "markdown",
   "metadata": {},
   "source": [
    "不定参数的两种类型可以混合使用，但是 \\*\\*kwargs 必须出现在末尾且两种类型各只能至多出现一次。"
   ]
  },
  {
   "cell_type": "code",
   "execution_count": 53,
   "metadata": {},
   "outputs": [
    {
     "name": "stdout",
     "output_type": "stream",
     "text": [
      "<function f at 0x10e2c21f0>\n",
      "<function <lambda> at 0x10e2c2430>\n",
      "0\n",
      "0\n"
     ]
    }
   ],
   "source": [
    "g = lambda x, y, z: x + y - z\n",
    "\n",
    "def f(x, y, z):\n",
    "    return x + y - z\n",
    "\n",
    "print(f)\n",
    "print(g)\n",
    "print(g(1, 2, 3))\n",
    "print(f(1, 2, 3))"
   ]
  },
  {
   "cell_type": "markdown",
   "metadata": {},
   "source": [
    "lambda 函数是一种简化了的函数定义形式，上例中的 f 函数和 g 函数是等价的。\n",
    "\n",
    "---\n",
    "\n",
    "一个函数在执行的过程中但凡执行到了 return 就会立刻退出函数。\n",
    "\n",
    "---\n",
    "\n",
    "函数中的变量还设计到变量作用域的问题，关于变量的作用域的相关知识，可以参考 https://baijiahao.baidu.com/s?id=1629972259474819006 。"
   ]
  },
  {
   "cell_type": "code",
   "execution_count": 54,
   "metadata": {},
   "outputs": [],
   "source": [
    "def f():\n",
    "    pass"
   ]
  },
  {
   "cell_type": "markdown",
   "metadata": {},
   "source": [
    "Python 里 pass 是空语句，是为了保持程序结构的完整性。pass 不做任何事情，一般用做占位语句。"
   ]
  },
  {
   "cell_type": "code",
   "execution_count": 55,
   "metadata": {},
   "outputs": [
    {
     "name": "stdout",
     "output_type": "stream",
     "text": [
      "0\n",
      "1\n",
      "4\n",
      "9\n",
      "16\n"
     ]
    }
   ],
   "source": [
    "def f(n):\n",
    "    for i in range(n):\n",
    "        yield i ** 2\n",
    "\n",
    "for x in f(5):\n",
    "    print(x)"
   ]
  },
  {
   "cell_type": "markdown",
   "metadata": {},
   "source": [
    "yield 关键字可以用来生成迭代器，详细解释可以参考 https://blog.csdn.net/mieleizhi0522/article/details/82142856 。"
   ]
  },
  {
   "cell_type": "markdown",
   "metadata": {},
   "source": [
    "### 5.2 类\n",
    "\n",
    "无论是变量还是函数，它们都是属于某一个特定的类（class）。类中的对象叫做该类的实例（instance）。特定类的所有对象都与方法（method）相关联，这些方法类似于一个函数，我们编写一次之后，可以重复的调用。一旦某个对象属于某个特定类之后，该对象就可以使用该类的所有方法。"
   ]
  },
  {
   "cell_type": "code",
   "execution_count": 56,
   "metadata": {},
   "outputs": [
    {
     "name": "stdout",
     "output_type": "stream",
     "text": [
      "\n",
      "    A class of university\n",
      "    \n",
      "<__main__.University object at 0x10e2cb430>\n",
      "SUSTech\n",
      "The name of university is SUSTech\n"
     ]
    }
   ],
   "source": [
    "class University():\n",
    "    '''\n",
    "    A class of university\n",
    "    '''\n",
    "    def __init__(self, name=''):\n",
    "        self.name = name\n",
    "    \n",
    "    def missing_detecting(self):\n",
    "        if self.name:\n",
    "            print('The name of university is %s' % self.name)\n",
    "        else:\n",
    "            print('missing value')\n",
    "\n",
    "print(University.__doc__)\n",
    "\n",
    "sustech = University('SUSTech')\n",
    "print(sustech)\n",
    "print(sustech.name)\n",
    "sustech.missing_detecting()"
   ]
  },
  {
   "cell_type": "markdown",
   "metadata": {},
   "source": [
    "上面的例子创建了一个简单的类和一个类的实例。\n",
    "\n",
    "\\_\\_doc\\_\\_ 显示出了类的文档内容。\n",
    "\n",
    "\\_\\_init\\_\\_ 是类的初始化方法。\n",
    "\n",
    "类通过 . 来调用内部的属性（比如 .name ）和方法（比如 .missing_detecting() ）。\n",
    "\n",
    "self 代表的是类的实例，在实例上调用的时候不需要传入，具体的细节可以参考 https://www.cnblogs.com/wangjian941118/p/9360471.html 。"
   ]
  },
  {
   "cell_type": "markdown",
   "metadata": {},
   "source": [
    "Python 的类也可以进行一定程度的封装，具体的类的 私有/保护 属性和方法可以参考 https://www.cnblogs.com/caimengzhi/p/8522002.html 和 https://www.cnblogs.com/yan-peng/p/9963169.html 。\n",
    "\n",
    "Python 的类也可以进行继承的操作，具体可以参考 https://www.cnblogs.com/xiaokuangnvhai/p/11211194.html 和 https://www.runoob.com/w3cnote/python-extends-init.html 。"
   ]
  },
  {
   "cell_type": "markdown",
   "metadata": {},
   "source": [
    "关于 Python 的类的详细教程可以参考 https://www.runoob.com/python/python-object.html 。"
   ]
  },
  {
   "cell_type": "markdown",
   "metadata": {},
   "source": [
    "## 6. 异常处理\n",
    "\n",
    "程序要遇到异常的时候，往往是直接中断，跳出执行。但是有些时候，我们需要在遇到异常的时候另外处理，而不是直接停止。"
   ]
  },
  {
   "cell_type": "code",
   "execution_count": 57,
   "metadata": {},
   "outputs": [
    {
     "name": "stdout",
     "output_type": "stream",
     "text": [
      "3\n",
      "no exception\n",
      "always excuted\n",
      "--------------------------------------------------\n",
      "got exception\n",
      "always excuted\n"
     ]
    }
   ],
   "source": [
    "def f(x):\n",
    "    return x\n",
    "\n",
    "def catcher(*args):  \n",
    "    try:  \n",
    "        print(f(*args))\n",
    "    except:  \n",
    "        print('got exception')  \n",
    "    else:  \n",
    "        print('no exception')\n",
    "    finally:\n",
    "        print('always excuted')\n",
    "\n",
    "catcher(3)\n",
    "print('-' * 50)\n",
    "catcher(3, 4)"
   ]
  },
  {
   "cell_type": "markdown",
   "metadata": {},
   "source": [
    "try 和 except 这一对组合之后可以跟 else 和 finally。若 else 和 finally 同时出现，else 必须在 finally 前面。\n",
    "\n",
    "try 不仅捕获异常，而且会恢复执行。try 无异常，才会执行else，否则执行 except 中内容。finally 总是在最后被执行。"
   ]
  },
  {
   "cell_type": "code",
   "execution_count": 58,
   "metadata": {},
   "outputs": [
    {
     "name": "stdout",
     "output_type": "stream",
     "text": [
      "3\n",
      "always excuted\n",
      "--------------------------------------------------\n"
     ]
    }
   ],
   "source": [
    "def f(x):\n",
    "    return x\n",
    "\n",
    "def catcher(*args):  \n",
    "    try:  \n",
    "        print(f(*args))\n",
    "    finally:\n",
    "        print('always excuted')\n",
    "\n",
    "catcher(3)\n",
    "print('-' * 50)\n",
    "# catcher(3, 4)"
   ]
  },
  {
   "cell_type": "markdown",
   "metadata": {},
   "source": [
    "try 也可以和 finally 组合。若 try 出现异常，则会在执行完 finally 之后中断执行，并提示异常。"
   ]
  },
  {
   "cell_type": "code",
   "execution_count": 59,
   "metadata": {},
   "outputs": [
    {
     "name": "stdout",
     "output_type": "stream",
     "text": [
      "exception raised\n"
     ]
    }
   ],
   "source": [
    "try:\n",
    "    raise\n",
    "except:\n",
    "    print('exception raised')"
   ]
  },
  {
   "cell_type": "markdown",
   "metadata": {},
   "source": [
    "我们可以使用 raise 语句自己触发异常。"
   ]
  },
  {
   "cell_type": "markdown",
   "metadata": {},
   "source": [
    "了解更详细的异常处理相关知识可以参考 https://www.runoob.com/python/python-exceptions.html 。"
   ]
  },
  {
   "cell_type": "markdown",
   "metadata": {},
   "source": [
    "## 7. 模块\n",
    "\n",
    "一个模块只会被导入一次，不管你执行了多少次 import。这样可以防止导入模块被一遍又一遍地执行。"
   ]
  },
  {
   "cell_type": "code",
   "execution_count": 60,
   "metadata": {},
   "outputs": [],
   "source": [
    "import csv"
   ]
  },
  {
   "cell_type": "markdown",
   "metadata": {},
   "source": [
    "导入 csv 模块，这个模块可以方便我们读写 csv 文件。"
   ]
  },
  {
   "cell_type": "code",
   "execution_count": 61,
   "metadata": {},
   "outputs": [
    {
     "name": "stdout",
     "output_type": "stream",
     "text": [
      "3\n"
     ]
    }
   ],
   "source": [
    "from math import gcd\n",
    "print(gcd(9, 6))"
   ]
  },
  {
   "cell_type": "markdown",
   "metadata": {},
   "source": [
    "从 math 模块中导入 gcd 函数，gcd 函数是用来计算最大公因数的函数。\n",
    "\n",
    "这个声明不会把整个 math 模块导入到当前的命名空间中，它只会将 math 里的 gcd 单个引入到执行这个声明的模块的全局符号表。"
   ]
  },
  {
   "cell_type": "code",
   "execution_count": 62,
   "metadata": {},
   "outputs": [],
   "source": [
    "from math import *"
   ]
  },
  {
   "cell_type": "markdown",
   "metadata": {},
   "source": [
    "把一个模块的所有内容全都导入到当前的命名空间也是可行的。"
   ]
  },
  {
   "cell_type": "code",
   "execution_count": 63,
   "metadata": {},
   "outputs": [
    {
     "name": "stdout",
     "output_type": "stream",
     "text": [
      "24\n"
     ]
    }
   ],
   "source": [
    "from math import factorial as f\n",
    "print(f(4))"
   ]
  },
  {
   "cell_type": "markdown",
   "metadata": {},
   "source": [
    "在导入的过程中也可以同时对其进行重命名，这样可以用来避免变量名重名。\n",
    "\n",
    "例如上面的例子是把 math 模块中的 factorial 函数（用来返回阶乘值）导入并重命名为 f。"
   ]
  },
  {
   "cell_type": "markdown",
   "metadata": {},
   "source": [
    "更多关于模块和包的操作可以参考 https://www.runoob.com/python/python-modules.html 。"
   ]
  },
  {
   "cell_type": "markdown",
   "metadata": {},
   "source": [
    "## 8. Python 内置函数\n",
    "\n",
    "Python 有很多功能强大的内置函数，比如说 print()、eval() 就是内置函数。\n",
    "\n",
    "可以从 https://www.runoob.com/python/python-built-in-functions.html 查看内置函数。\n",
    "\n",
    "在这里介绍几个前面没有出现的内置函数。"
   ]
  },
  {
   "cell_type": "code",
   "execution_count": 64,
   "metadata": {},
   "outputs": [
    {
     "name": "stdout",
     "output_type": "stream",
     "text": [
      "15\n",
      "15\n"
     ]
    }
   ],
   "source": [
    "numbers = [1, 2, 3, 4, 5]\n",
    "print(sum(numbers))\n",
    "\n",
    "numbers = {1, 2, 3, 4, 5}\n",
    "print(sum(numbers))"
   ]
  },
  {
   "cell_type": "markdown",
   "metadata": {},
   "source": [
    "sum() 函数用于求和。"
   ]
  },
  {
   "cell_type": "code",
   "execution_count": 65,
   "metadata": {},
   "outputs": [
    {
     "name": "stdout",
     "output_type": "stream",
     "text": [
      "[1, 2, 3, 4, 5]\n",
      "[1, 2, 3, 4, 5]\n"
     ]
    }
   ],
   "source": [
    "numbers = [5, 4, 3, 2, 1]\n",
    "print(sorted(numbers))\n",
    "\n",
    "numbers = {4, 5, 3, 2, 1}\n",
    "print(sorted(numbers))"
   ]
  },
  {
   "cell_type": "markdown",
   "metadata": {},
   "source": [
    "sorted() 函数用于返回一个排序好的列表。"
   ]
  },
  {
   "cell_type": "code",
   "execution_count": 66,
   "metadata": {},
   "outputs": [
    {
     "name": "stdout",
     "output_type": "stream",
     "text": [
      "<map object at 0x10e2d94c0>\n",
      "[1, 4, 9, 16, 25]\n"
     ]
    }
   ],
   "source": [
    "a = map(lambda x: x ** 2, [1, 2, 3, 4, 5])\n",
    "squares = list(a)\n",
    "print(a)\n",
    "print(squares)"
   ]
  },
  {
   "cell_type": "markdown",
   "metadata": {},
   "source": [
    "map() 函数用于映射一个函数。"
   ]
  },
  {
   "cell_type": "code",
   "execution_count": 67,
   "metadata": {},
   "outputs": [
    {
     "name": "stdout",
     "output_type": "stream",
     "text": [
      "min: 2\n",
      "max: 9\n"
     ]
    }
   ],
   "source": [
    "numbers = [5, 6, 2, 5, 9]\n",
    "print('min:', min(numbers))\n",
    "print('max:', max(numbers))"
   ]
  },
  {
   "cell_type": "markdown",
   "metadata": {},
   "source": [
    "min()、max() 分别求取最小值和最大值。"
   ]
  },
  {
   "cell_type": "markdown",
   "metadata": {},
   "source": [
    "## 9. 新的特性\n",
    "\n",
    "3.5 新特性可以参考 https://blog.csdn.net/youzi_yun/article/details/87024043 。\n",
    "\n",
    "3.6 新特性可以参考 https://www.cnblogs.com/yangliguo/p/7766949.html 。\n",
    "\n",
    "3.7 新特性可以参考 https://www.jianshu.com/p/66aa47104365 。\n",
    "\n",
    "3.8 新特性可以参考 https://baijiahao.baidu.com/s?id=1639375363426418681 。"
   ]
  },
  {
   "cell_type": "markdown",
   "metadata": {},
   "source": [
    "## 10. 拓展\n",
    "\n",
    "1. https://www.codewars.com\n",
    "2. https://github.com/jackzhenguo/python-small-examples"
   ]
  },
  {
   "cell_type": "markdown",
   "metadata": {},
   "source": [
    "## reference\n",
    "\n",
    "1. 博雅大数据学院部分ppt\n",
    "2. https://www.runoob.com/python/python-tutorial.html\n",
    "3. https://docs.python.org/zh-cn/3/\n",
    "4. https://docs.python.org/3/"
   ]
  }
 ],
 "metadata": {
  "kernelspec": {
   "display_name": "Python 3",
   "language": "python",
   "name": "python3"
  },
  "language_info": {
   "codemirror_mode": {
    "name": "ipython",
    "version": 3
   },
   "file_extension": ".py",
   "mimetype": "text/x-python",
   "name": "python",
   "nbconvert_exporter": "python",
   "pygments_lexer": "ipython3",
   "version": "3.7.4"
  }
 },
 "nbformat": 4,
 "nbformat_minor": 4
}
